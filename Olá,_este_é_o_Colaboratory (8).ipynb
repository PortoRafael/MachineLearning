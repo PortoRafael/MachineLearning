{
  "cells": [
    {
      "cell_type": "code",
      "source": [
        "import pandas as pd\n",
        "import numpy as np\n",
        "df = pd.read_csv('/content/drive/MyDrive/Machine Learning/bike_buyers.csv')\n"
      ],
      "metadata": {
        "id": "iUSuquiFDN0-"
      },
      "execution_count": 1,
      "outputs": []
    },
    {
      "cell_type": "code",
      "source": [
        "replacement_dict = {'Marital Status': df['Marital Status'].dropna().mode(), \n",
        "                    'Gender': df['Gender'].dropna().mode(),\n",
        "                    'Home Owner':df['Home Owner'].dropna().mode(),\n",
        "                    'Children':df['Children'].dropna().mean(),\n",
        "                    'Cars':df['Cars'].dropna().mean(),\n",
        "                    'Age':df['Age'].dropna().mean(),\n",
        "                    'Income':df['Income'].dropna().mean()}\n",
        "\n",
        "df.fillna(value=replacement_dict, inplace=True)\n",
        "\n",
        "# Substituir pela média não funcionou"
      ],
      "metadata": {
        "id": "YSXD0lnBM32z"
      },
      "execution_count": 2,
      "outputs": []
    },
    {
      "cell_type": "code",
      "source": [
        "df.dropna(inplace=True)"
      ],
      "metadata": {
        "id": "xYF7DY22M6Bj"
      },
      "execution_count": 2,
      "outputs": []
    },
    {
      "cell_type": "code",
      "source": [
        "df1 = df.copy()\n",
        "previsores1 = df.iloc[:,1:12].values\n",
        "previsores2 = pd.DataFrame(previsores1)"
      ],
      "metadata": {
        "id": "gfnzchG8M5EK"
      },
      "execution_count": 3,
      "outputs": []
    },
    {
      "cell_type": "code",
      "source": [
        "df.head()"
      ],
      "metadata": {
        "id": "PydfwjbAIlYe"
      },
      "execution_count": null,
      "outputs": []
    },
    {
      "cell_type": "code",
      "source": [
        "from sklearn.preprocessing import LabelEncoder\n",
        "alvo = LabelEncoder().fit_transform(df1.iloc[:,12])\n",
        "previsores2.iloc[:,0] = LabelEncoder().fit_transform(previsores2.iloc[:,0])\n",
        "previsores2.iloc[:,1] = LabelEncoder().fit_transform(previsores2.iloc[:,1])\n",
        "previsores2.iloc[:,4] = LabelEncoder().fit_transform(previsores2.iloc[:,4])\n",
        "previsores2.iloc[:,5] = LabelEncoder().fit_transform(previsores2.iloc[:,5])\n",
        "previsores2.iloc[:,6] = LabelEncoder().fit_transform(previsores2.iloc[:,6])\n",
        "previsores2.iloc[:,8] = LabelEncoder().fit_transform(previsores2.iloc[:,8])\n",
        "previsores2.iloc[:,9] = LabelEncoder().fit_transform(previsores2.iloc[:,9])\n",
        "previsores2 = previsores2.values"
      ],
      "metadata": {
        "id": "8sWhgh1rDeW-"
      },
      "execution_count": 4,
      "outputs": []
    },
    {
      "cell_type": "code",
      "source": [
        "from sklearn.preprocessing import OneHotEncoder\n",
        "from sklearn.compose import ColumnTransformer\n",
        "\n",
        "previsores3 = pd.DataFrame(previsores2)\n",
        "previsores3 = ColumnTransformer(transformers=[('OneHot', OneHotEncoder(), [0,1,4,5,6,8,9])],\n",
        "                                remainder='passthrough').fit_transform(previsores3)"
      ],
      "metadata": {
        "id": "dzASI2i2Drrt"
      },
      "execution_count": 5,
      "outputs": []
    },
    {
      "cell_type": "code",
      "source": [
        "from sklearn.preprocessing import StandardScaler\n",
        "previsores4=pd.DataFrame(previsores3)\n",
        "previsores4 = StandardScaler().fit_transform(previsores4)"
      ],
      "metadata": {
        "id": "APiW3Ty7Dx0U"
      },
      "execution_count": 6,
      "outputs": []
    },
    {
      "cell_type": "code",
      "source": [
        "from sklearn.decomposition import PCA\n",
        "\n",
        "pca=PCA(n_components=20)\n",
        "previsores_pca = pca.fit_transform(previsores4)\n",
        "\n",
        "pca.explained_variance_ratio_.sum() # explica a influencia das variaveis principais"
      ],
      "metadata": {
        "id": "_F94i6-jUG64",
        "outputId": "dd63a405-ec96-419b-fdeb-85c111755f84",
        "colab": {
          "base_uri": "https://localhost:8080/"
        }
      },
      "execution_count": 25,
      "outputs": [
        {
          "output_type": "execute_result",
          "data": {
            "text/plain": [
              "0.9950276583270719"
            ]
          },
          "metadata": {},
          "execution_count": 25
        }
      ]
    },
    {
      "cell_type": "code",
      "source": [
        "from sklearn.model_selection import train_test_split\n",
        "xTrain,xTest,yTrain,yTest = train_test_split(previsores_pca,alvo,test_size=0.3,random_state=0)"
      ],
      "metadata": {
        "id": "f1_m12BeEGfV"
      },
      "execution_count": 26,
      "outputs": []
    },
    {
      "cell_type": "code",
      "source": [
        "from sklearn.naive_bayes import GaussianNB\n",
        "naive = GaussianNB()\n",
        "naive.fit(xTrain,yTrain)\n",
        "\n",
        "previsores_naive = naive.predict(xTest)"
      ],
      "metadata": {
        "id": "8MPYfVRGD1Jk"
      },
      "execution_count": 27,
      "outputs": []
    },
    {
      "cell_type": "code",
      "source": [
        "from sklearn.metrics import accuracy_score,confusion_matrix,classification_report\n",
        "\n",
        "print(accuracy_score(yTest,previsores_naive))\n",
        "print(confusion_matrix(yTest,previsores_naive))\n",
        "print(classification_report(yTest,previsores_naive))\n"
      ],
      "metadata": {
        "colab": {
          "base_uri": "https://localhost:8080/"
        },
        "id": "ADRcGlIFFeqb",
        "outputId": "d27bc8d9-7d95-4552-a049-8d4cba548de2"
      },
      "execution_count": 28,
      "outputs": [
        {
          "output_type": "stream",
          "name": "stdout",
          "text": [
            "0.6468531468531469\n",
            "[[92 57]\n",
            " [44 93]]\n",
            "              precision    recall  f1-score   support\n",
            "\n",
            "           0       0.68      0.62      0.65       149\n",
            "           1       0.62      0.68      0.65       137\n",
            "\n",
            "    accuracy                           0.65       286\n",
            "   macro avg       0.65      0.65      0.65       286\n",
            "weighted avg       0.65      0.65      0.65       286\n",
            "\n"
          ]
        }
      ]
    }
  ],
  "metadata": {
    "colab": {
      "name": "Olá, este é o Colaboratory",
      "provenance": []
    },
    "kernelspec": {
      "display_name": "Python 3",
      "name": "python3"
    }
  },
  "nbformat": 4,
  "nbformat_minor": 0
}