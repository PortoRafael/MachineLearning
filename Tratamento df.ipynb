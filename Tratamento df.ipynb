{
  "cells": [
    {
      "cell_type": "code",
      "source": [
        "from google.colab import drive\n",
        "drive.mount('/content/drive')"
      ],
      "metadata": {
        "colab": {
          "base_uri": "https://localhost:8080/"
        },
        "id": "pkb_ieipgBs7",
        "outputId": "e996fd77-76df-4e74-fcc3-30d29f07cee3"
      },
      "execution_count": 113,
      "outputs": [
        {
          "output_type": "stream",
          "name": "stdout",
          "text": [
            "Drive already mounted at /content/drive; to attempt to forcibly remount, call drive.mount(\"/content/drive\", force_remount=True).\n"
          ]
        }
      ]
    },
    {
      "cell_type": "code",
      "source": [
        "import pandas as pd\n",
        "import numpy as np\n",
        "origin = pd.read_csv('/content/drive/MyDrive/Machine Learning/Bike Buyers/bike_buyers.csv')\n",
        "df = origin.copy()\n",
        "\n",
        "#Categorical\n",
        "replacement_dict = {'Marital Status': 'Unknown', \n",
        "                    'Gender': 'Unknown',\n",
        "                    'Home Owner':'Unknown'\n",
        "                    }\n",
        "df.fillna(value=replacement_dict, inplace=True)\n",
        "\n",
        "# Numerics\n",
        "na_professional_median = df[(df['Region']=='North America')&(df['Occupation']=='Professional')]['Income'].median()\n",
        "df.iloc[509,df.columns.get_loc('Income')] = na_professional_median\n",
        "\n",
        "eu_manual_median = df[(df['Region']=='Europe')&(df['Occupation']=='Manual')]['Income'].median()\n",
        "for i in [9,110,191]:\n",
        "  df.iloc[i,df.columns.get_loc('Income')] = eu_manual_median\n",
        "\n",
        "pacific_clerical_median = df[(df['Region']=='Europe')&(df['Occupation']=='Clerical')]['Income'].median()\n",
        "df.iloc[301,df.columns.get_loc('Income')] = pacific_clerical_median\n",
        "\n",
        "pacific_SkilledManual_median = df[(df['Region']=='Europe')&(df['Occupation']=='Skilled Manual')]['Income'].median()\n",
        "df.iloc[441,df.columns.get_loc('Income')] = pacific_SkilledManual_median\n",
        "\n",
        "df.iloc[638,df.columns.get_loc('Children')] = int(df[(df.Age>=70)&(pd.isnull(df.Children)==False)].Children.median())\n",
        "\n",
        "for i in [117,217]:\n",
        "  df.iloc[i,df.columns.get_loc('Children')] = df[(df['Region']=='Europe')].Children.median()\n",
        "\n",
        "for i in [386,549,688,805,960]:\n",
        "  df.iloc[i,df.columns.get_loc('Children')] = 0\n",
        "\n",
        "for i in [202,448]:\n",
        "  df.iloc[i,df.columns.get_loc('Cars')] = df[(df.Occupation=='Clerical')&(pd.isnull(df.Cars)==False)&(df.Region=='Europe')].Cars.median()\n",
        "\n",
        "df.iloc[561,df.columns.get_loc('Cars')] = df[(df.Occupation=='Clerical')&(pd.isnull(df.Cars)==False)&(df.Region=='North America')].Cars.median()\n",
        "df.iloc[511,df.columns.get_loc('Cars')] = df[(df.Occupation=='Management')&(pd.isnull(df.Cars)==False)&(df.Region=='North America')&(df['Commute Distance']=='5-10 Miles')].Cars.median()\n",
        "df.iloc[351,df.columns.get_loc('Cars')] = df[(df.Occupation=='Manual')&(pd.isnull(df.Cars)==False)&(df.Region=='Europe')].Cars.median()\n",
        "df.iloc[12,df.columns.get_loc('Cars')] = int(df[(df.Occupation=='Professional')&(pd.isnull(df.Cars)==False)&(df.Region=='Europe')].Cars.median())\n",
        "df.iloc[196,df.columns.get_loc('Cars')] = df[(df.Occupation=='Skilled Manual')&(pd.isnull(df.Cars)==False)&(df.Region=='Europe')].Cars.median()\n",
        "for i in [615,933]:\n",
        "  df.iloc[i,df.columns.get_loc('Cars')] = df[(df.Occupation=='Skilled Manual')&(pd.isnull(df.Cars)==False)&(df.Region=='North America')].Cars.median()\n",
        "df.Age[pd.isnull(df.Age)] = df.mode().Age[0]"
      ],
      "metadata": {
        "id": "RdKlZzrJgAL6"
      },
      "execution_count": null,
      "outputs": []
    },
    {
      "cell_type": "code",
      "source": [
        "df.isnull().sum()"
      ],
      "metadata": {
        "colab": {
          "base_uri": "https://localhost:8080/"
        },
        "id": "FCIXzfKjgq3z",
        "outputId": "8a655acb-6f77-42b7-9944-4753268e7e91"
      },
      "execution_count": 164,
      "outputs": [
        {
          "output_type": "execute_result",
          "data": {
            "text/plain": [
              "ID                  0\n",
              "Marital Status      0\n",
              "Gender              0\n",
              "Income              0\n",
              "Children            0\n",
              "Education           0\n",
              "Occupation          0\n",
              "Home Owner          0\n",
              "Cars                0\n",
              "Commute Distance    0\n",
              "Region              0\n",
              "Age                 0\n",
              "Purchased Bike      0\n",
              "dtype: int64"
            ]
          },
          "metadata": {},
          "execution_count": 164
        }
      ]
    }
  ],
  "metadata": {
    "colab": {
      "name": "Olá, este é o Colaboratory",
      "provenance": []
    },
    "kernelspec": {
      "display_name": "Python 3",
      "name": "python3"
    }
  },
  "nbformat": 4,
  "nbformat_minor": 0
}