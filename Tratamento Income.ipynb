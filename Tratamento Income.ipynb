{
  "cells": [
    {
      "cell_type": "code",
      "source": [
        "from google.colab import drive\n",
        "drive.mount('/content/drive')"
      ],
      "metadata": {
        "id": "pkb_ieipgBs7"
      },
      "execution_count": null,
      "outputs": []
    },
    {
      "cell_type": "code",
      "source": [
        "import pandas as pd\n",
        "import numpy as np\n",
        "origin = pd.read_csv('/content/drive/MyDrive/Machine Learning/Bike Buyers/bike_buyers.csv')\n",
        "df = origin.copy\n",
        "\n",
        "#Categorical\n",
        "replacement_dict = {'Marital Status': 'Unknown', \n",
        "                    'Gender': 'Unknown',\n",
        "                    'Home Owner':'Unknown'\n",
        "                    }\n",
        "df.fillna(value=replacement_dict, inplace=True)\n",
        "\n",
        "# Numerics\n",
        "na_professional_median = df[(df['Region']=='North America')&(df['Occupation']=='Professional')]['Income'].median()\n",
        "df.iloc[509,df.columns.get_loc('Income')] = na_professional_median\n",
        "\n",
        "eu_manual_median = df[(df['Region']=='Europe')&(df['Occupation']=='Manual')]['Income'].median()\n",
        "for i in [9,110,191]:\n",
        "  df.iloc[i,df.columns.get_loc('Income')] = eu_manual_median\n",
        "\n",
        "pacific_clerical_median = df[(df['Region']=='Europe')&(df['Occupation']=='Clerical')]['Income'].median()\n",
        "df.iloc[301,df.columns.get_loc('Income')] = pacific_clerical_median\n",
        "\n",
        "pacific_SkilledManual_median = df[(df['Region']=='Europe')&(df['Occupation']=='Skilled Manual')]['Income'].median()\n",
        "df.iloc[441,df.columns.get_loc('Income')] = pacific_SkilledManual_median\n"
      ],
      "metadata": {
        "id": "RdKlZzrJgAL6"
      },
      "execution_count": 25,
      "outputs": []
    },
    {
      "cell_type": "code",
      "source": [
        "df.isnull().sum()"
      ],
      "metadata": {
        "id": "FCIXzfKjgq3z"
      },
      "execution_count": null,
      "outputs": []
    },
    {
      "cell_type": "code",
      "source": [
        "import seaborn as sns\n",
        "sns.set(rc={'figure.figsize':(10,5)})\n",
        "sns.lineplot(data = df,  x ='Age',  y ='Income', hue ='Occupation')"
      ],
      "metadata": {
        "id": "yc0l7KQniReF"
      },
      "execution_count": null,
      "outputs": []
    },
    {
      "cell_type": "code",
      "source": [
        "sns.kdeplot(data = df, x = 'Income', hue = 'Region')"
      ],
      "metadata": {
        "id": "syUah8TIjHsa"
      },
      "execution_count": null,
      "outputs": []
    },
    {
      "cell_type": "code",
      "source": [
        "import matplotlib.pyplot as plt\n",
        "import seaborn as sns\n",
        "\n",
        "sns.set(rc={'figure.figsize':(25,5)}) # 20 means length and 5 means width of Graph\n",
        "fig, axes = plt.subplots(1,3) # 1 means row(Row of graph) and 3 means column(Europe, North America, and Pacific)\n",
        "\n",
        "sns.kdeplot(data = df[df['Region'] == 'Europe'] , x ='Income', hue = 'Occupation', ax = axes[0],)\n",
        "sns.kdeplot(data = df[df['Region'] == 'North America'] , x ='Income', hue = 'Occupation', ax = axes[1])\n",
        "sns.kdeplot(data = df[df['Region'] == 'Pacific'] , x ='Income', hue = 'Occupation', ax = axes[2])\n",
        "axes[0].set_title('Europe')\n",
        "axes[1].set_title('NA')\n",
        "axes[2].set_title('Pacific')"
      ],
      "metadata": {
        "id": "_gUuY2FbkVUp"
      },
      "execution_count": null,
      "outputs": []
    }
  ],
  "metadata": {
    "colab": {
      "name": "Olá, este é o Colaboratory",
      "provenance": []
    },
    "kernelspec": {
      "display_name": "Python 3",
      "name": "python3"
    }
  },
  "nbformat": 4,
  "nbformat_minor": 0
}